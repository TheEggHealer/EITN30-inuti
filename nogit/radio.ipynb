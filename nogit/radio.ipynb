{
 "cells": [
  {
   "cell_type": "code",
   "execution_count": 17,
   "metadata": {},
   "outputs": [],
   "source": [
    "from PIL import Image\n",
    "import struct\n",
    "import numpy as np"
   ]
  },
  {
   "cell_type": "code",
   "execution_count": 22,
   "metadata": {},
   "outputs": [
    {
     "name": "stdout",
     "output_type": "stream",
     "text": [
      "(408, 233)\n",
      "True\n"
     ]
    }
   ],
   "source": [
    "curse = Image.open('./firstpng.png')\n",
    "\n",
    "b = curse.tobytes()\n",
    "mode = curse.mode\n",
    "size = curse.size\n",
    "\n",
    "curse2 = Image.frombytes('RGBA', size, b)\n",
    "curse2\n",
    "\n",
    "print(size)\n",
    "s = struct.pack('>ii', size[0], size[1])\n",
    "print(len(b) % 32 == 0)"
   ]
  }
 ],
 "metadata": {
  "kernelspec": {
   "display_name": "venv",
   "language": "python",
   "name": "python3"
  },
  "language_info": {
   "codemirror_mode": {
    "name": "ipython",
    "version": 3
   },
   "file_extension": ".py",
   "mimetype": "text/x-python",
   "name": "python",
   "nbconvert_exporter": "python",
   "pygments_lexer": "ipython3",
   "version": "3.9.2 (default, Mar 12 2021, 04:06:34) \n[GCC 10.2.1 20210110]"
  },
  "orig_nbformat": 4,
  "vscode": {
   "interpreter": {
    "hash": "42a116ab3317aecbd1ca92c38e752e3b7534d4c6605ee160683e999818986956"
   }
  }
 },
 "nbformat": 4,
 "nbformat_minor": 2
}
